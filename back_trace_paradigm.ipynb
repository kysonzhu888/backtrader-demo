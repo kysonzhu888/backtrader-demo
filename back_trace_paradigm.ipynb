{
 "cells": [
  {
   "cell_type": "code",
   "id": "initial_id",
   "metadata": {
    "collapsed": true,
    "ExecuteTime": {
     "end_time": "2025-05-27T11:44:54.505063Z",
     "start_time": "2025-05-27T11:44:54.402782Z"
    }
   },
   "source": [
    "import environment\n",
    "from database_helper import DatabaseHelper\n",
    "import logging\n",
    "import os\n",
    "from back_trace_paradigm import FilePathManager, DataProcessor, HistoricalDataLoader\n",
    "\n",
    "\n",
    "end_time = environment.debug_latest_candle_time if os.getenv('DEBUG_MODE') == '1' else None\n",
    "data_window = HistoricalDataLoader.load_historical_data(product_type='AU', interval='1min',end_time=end_time)\n",
    "logging.info(f\"\\n{data_window}\")\n",
    "\n",
    "last_timestamp = data_window.index[-1]\n",
    "logging.info(f\"\\n{last_timestamp}\")\n",
    "\n",
    "        "
   ],
   "outputs": [
    {
     "name": "stderr",
     "output_type": "stream",
     "text": [
      "2025-05-27 19:44:54,405 - INFO - 没有找到 csv 文件，下面开始读取数据库\n",
      "2025-05-27 19:44:54,495 - INFO - 历史数据加载完成，最新时间戳: 2025-05-21 09:29:00\n",
      "2025-05-27 19:44:54,496 - INFO - Debug模式：数据已过滤到 2025-05-21 09:29:01 之前\n",
      "2025-05-27 19:44:54,501 - INFO - \n",
      "                       Open    High     Low   Close  Volume\n",
      "time                                                       \n",
      "2025-04-10 22:02:00  742.22  743.22  742.22  743.06  2491.0\n",
      "2025-04-10 22:03:00  743.08  743.50  743.08  743.50  2324.0\n",
      "2025-04-10 22:04:00  743.52  744.12  743.52  743.88  3012.0\n",
      "2025-04-10 22:05:00  743.86  744.14  743.46  744.14  2841.0\n",
      "2025-04-10 22:06:00  744.20  744.58  744.16  744.48  2825.0\n",
      "...                     ...     ...     ...     ...     ...\n",
      "2025-05-21 09:25:00  773.94  774.06  772.62  772.62  1567.0\n",
      "2025-05-21 09:26:00  772.68  772.88  772.10  772.56  2619.0\n",
      "2025-05-21 09:27:00  772.54  773.42  772.48  773.24  1509.0\n",
      "2025-05-21 09:28:00  773.18  773.64  772.92  773.32  1419.0\n",
      "2025-05-21 09:29:00  773.32  773.34  772.60  772.68   916.0\n",
      "\n",
      "[13737 rows x 5 columns]\n",
      "2025-05-27 19:44:54,502 - INFO - \n",
      "2025-05-21 09:29:00\n"
     ]
    }
   ],
   "execution_count": 7
  },
  {
   "metadata": {},
   "cell_type": "code",
   "outputs": [],
   "execution_count": null,
   "source": "",
   "id": "e2b4110e48ff2975"
  }
 ],
 "metadata": {
  "kernelspec": {
   "display_name": "Python 3",
   "language": "python",
   "name": "python3"
  },
  "language_info": {
   "codemirror_mode": {
    "name": "ipython",
    "version": 2
   },
   "file_extension": ".py",
   "mimetype": "text/x-python",
   "name": "python",
   "nbconvert_exporter": "python",
   "pygments_lexer": "ipython2",
   "version": "2.7.6"
  }
 },
 "nbformat": 4,
 "nbformat_minor": 5
}
